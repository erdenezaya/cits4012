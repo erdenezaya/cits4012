{
  "nbformat": 4,
  "nbformat_minor": 0,
  "metadata": {
    "colab": {
      "provenance": [],
      "include_colab_link": true
    },
    "kernelspec": {
      "name": "python3",
      "display_name": "Python 3"
    },
    "language_info": {
      "name": "python"
    }
  },
  "cells": [
    {
      "cell_type": "markdown",
      "metadata": {
        "id": "view-in-github",
        "colab_type": "text"
      },
      "source": [
        "<a href=\"https://colab.research.google.com/github/erdenezaya/cits4012/blob/main/CITS4012_24448191.ipynb\" target=\"_parent\"><img src=\"https://colab.research.google.com/assets/colab-badge.svg\" alt=\"Open In Colab\"/></a>"
      ]
    },
    {
      "cell_type": "markdown",
      "source": [
        "# 2025 CITS4012 Individual Assignment\n",
        "*Make sure you change the file name with your student id.*"
      ],
      "metadata": {
        "id": "YOsq3No1kRC-"
      }
    },
    {
      "cell_type": "markdown",
      "source": [
        "# Readme\n",
        "*If there is something to be noted for the marker, please mention here.*\n",
        "\n",
        "*If you are planning to implement a program with Object Oriented Programming style, please put those the bottom of this ipynb file*"
      ],
      "metadata": {
        "id": "THS1ppSwkgz4"
      }
    },
    {
      "cell_type": "markdown",
      "source": [
        "# 1.Dataset Processing\n",
        "(You can add as many code blocks and text blocks as you need. However, YOU SHOULD NOT MODIFY the section title)"
      ],
      "metadata": {
        "id": "3tgj4JarkjAY"
      }
    },
    {
      "cell_type": "code",
      "source": [],
      "metadata": {
        "id": "vF0lwUqfkj6p"
      },
      "execution_count": null,
      "outputs": []
    },
    {
      "cell_type": "markdown",
      "source": [
        "# 2.Word Embedding Construction\n",
        "(You can add as many code blocks and text blocks as you need. However, YOU SHOULD NOT MODIFY the section title)"
      ],
      "metadata": {
        "id": "zDxZSK20klWr"
      }
    },
    {
      "cell_type": "code",
      "source": [],
      "metadata": {
        "id": "fleoeIBDkr5i"
      },
      "execution_count": null,
      "outputs": []
    },
    {
      "cell_type": "markdown",
      "source": [
        "# 3.Visualization\n",
        "(You can add as many code blocks and text blocks as you need. However, YOU SHOULD NOT MODIFY the section title)"
      ],
      "metadata": {
        "id": "kP-wrwk5ksfQ"
      }
    },
    {
      "cell_type": "code",
      "source": [],
      "metadata": {
        "id": "wgINzbHEkzbu"
      },
      "execution_count": null,
      "outputs": []
    },
    {
      "cell_type": "markdown",
      "source": [
        "# 4.RNN-based Model Implementation\n",
        "(You can add as many code blocks and text blocks as you need. However, YOU SHOULD NOT MODIFY the section title)"
      ],
      "metadata": {
        "id": "XZJlo-z8k0ai"
      }
    },
    {
      "cell_type": "code",
      "source": [],
      "metadata": {
        "id": "DRXewgTnk6sB"
      },
      "execution_count": null,
      "outputs": []
    },
    {
      "cell_type": "markdown",
      "source": [
        "# 5.Performance Evaluation\n",
        "(You can add as many code blocks and text blocks as you need. However, YOU SHOULD NOT MODIFY the section title)"
      ],
      "metadata": {
        "id": "6GU_rQZJk87q"
      }
    },
    {
      "cell_type": "code",
      "source": [],
      "metadata": {
        "id": "L11vnP-lk_ZH"
      },
      "execution_count": null,
      "outputs": []
    },
    {
      "cell_type": "markdown",
      "source": [
        "# 6.Interactive Inference Colab Form\n",
        "(You can add as many code blocks and text blocks as you need. However, YOU SHOULD NOT MODIFY the section title)"
      ],
      "metadata": {
        "id": "Zvj4_3Qak_x7"
      }
    },
    {
      "cell_type": "code",
      "source": [],
      "metadata": {
        "id": "SMJN1Dx1lES9"
      },
      "execution_count": null,
      "outputs": []
    }
  ]
}